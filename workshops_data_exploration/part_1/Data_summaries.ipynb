{
 "cells": [
  {
   "cell_type": "code",
   "execution_count": 1,
   "metadata": {
    "inputHidden": false,
    "outputHidden": false
   },
   "outputs": [],
   "source": [
    "import pandas as pd\n",
    "import random\n",
    "import seaborn as sns\n",
    "import matplotlib.pyplot as plt\n",
    "import numpy as np\n",
    "import io\n",
    "import requests"
   ]
  },
  {
   "cell_type": "markdown",
   "metadata": {},
   "source": [
    "## Reading the data\n",
    "\n",
    "Let's look at the countries data"
   ]
  },
  {
   "cell_type": "code",
   "execution_count": 4,
   "metadata": {
    "inputHidden": false,
    "outputHidden": false
   },
   "outputs": [],
   "source": [
    "#importing the countries data\n",
    "countries_header = ['name','capital','location','pop(mil)','rank','area(km2)','rank_area','currency','national_holiday']\n",
    "url1 = 'https://raw.githubusercontent.com/terezaif/workshops_data_exploration/master/part_1/datasets/countries_a.csv'\n",
    "df = pd.read_csv(url1, skiprows=1, names=countries_header)\n",
    "\n",
    "url2='https://raw.githubusercontent.com/terezaif/workshops_data_exploration/master/part_1/datasets/countries_europe.csv'\n",
    "df2 = pd.read_csv(url2, skiprows=1, names=countries_header)"
   ]
  },
  {
   "cell_type": "markdown",
   "metadata": {},
   "source": [
    "### the 5 number summary\n",
    "\n",
    "The 5 number summary consists of the extremes (min and max), quartiles and median. This in panda can be retrieved by the df.describe() function"
   ]
  },
  {
   "cell_type": "code",
   "execution_count": 5,
   "metadata": {
    "inputHidden": false,
    "outputHidden": false
   },
   "outputs": [
    {
     "data": {
      "text/html": [
       "<div>\n",
       "<style scoped>\n",
       "    .dataframe tbody tr th:only-of-type {\n",
       "        vertical-align: middle;\n",
       "    }\n",
       "\n",
       "    .dataframe tbody tr th {\n",
       "        vertical-align: top;\n",
       "    }\n",
       "\n",
       "    .dataframe thead th {\n",
       "        text-align: right;\n",
       "    }\n",
       "</style>\n",
       "<table border=\"1\" class=\"dataframe\">\n",
       "  <thead>\n",
       "    <tr style=\"text-align: right;\">\n",
       "      <th></th>\n",
       "      <th>name</th>\n",
       "      <th>capital</th>\n",
       "      <th>location</th>\n",
       "      <th>pop(mil)</th>\n",
       "      <th>rank</th>\n",
       "      <th>area(km2)</th>\n",
       "      <th>rank_area</th>\n",
       "      <th>currency</th>\n",
       "      <th>national_holiday</th>\n",
       "    </tr>\n",
       "  </thead>\n",
       "  <tbody>\n",
       "    <tr>\n",
       "      <th>0</th>\n",
       "      <td>Afghanistan</td>\n",
       "      <td>Kabul</td>\n",
       "      <td>Central Asia</td>\n",
       "      <td>29.800</td>\n",
       "      <td>40</td>\n",
       "      <td>652225</td>\n",
       "      <td>40</td>\n",
       "      <td>Afghani</td>\n",
       "      <td>Pul 18 Aug</td>\n",
       "    </tr>\n",
       "    <tr>\n",
       "      <th>1</th>\n",
       "      <td>Albania</td>\n",
       "      <td>Tirana</td>\n",
       "      <td>Southeast Europe</td>\n",
       "      <td>3.100</td>\n",
       "      <td>133</td>\n",
       "      <td>28748</td>\n",
       "      <td>140</td>\n",
       "      <td>Lek</td>\n",
       "      <td>Quindarka 28 Nov</td>\n",
       "    </tr>\n",
       "    <tr>\n",
       "      <th>2</th>\n",
       "      <td>Algeria</td>\n",
       "      <td>Algiers</td>\n",
       "      <td>North Africa</td>\n",
       "      <td>34.900</td>\n",
       "      <td>34</td>\n",
       "      <td>2381741</td>\n",
       "      <td>10</td>\n",
       "      <td>Dinar</td>\n",
       "      <td>Centimes 5 Jul &amp; 1 Nov</td>\n",
       "    </tr>\n",
       "    <tr>\n",
       "      <th>3</th>\n",
       "      <td>Andorra</td>\n",
       "      <td>Andorra la Vella</td>\n",
       "      <td>South-western Europe</td>\n",
       "      <td>0.085</td>\n",
       "      <td>186</td>\n",
       "      <td>467</td>\n",
       "      <td>181</td>\n",
       "      <td>Euro</td>\n",
       "      <td>Cent 8 Sep</td>\n",
       "    </tr>\n",
       "    <tr>\n",
       "      <th>4</th>\n",
       "      <td>Angola</td>\n",
       "      <td>Luanda</td>\n",
       "      <td>South-West Africa</td>\n",
       "      <td>18.500</td>\n",
       "      <td>59</td>\n",
       "      <td>1246700</td>\n",
       "      <td>22</td>\n",
       "      <td>Kwanza</td>\n",
       "      <td>Centim 11 Nov</td>\n",
       "    </tr>\n",
       "    <tr>\n",
       "      <th>5</th>\n",
       "      <td>Antigua &amp; Barbuda</td>\n",
       "      <td>St. John’s</td>\n",
       "      <td>Caribbean</td>\n",
       "      <td>0.088</td>\n",
       "      <td>184</td>\n",
       "      <td>442</td>\n",
       "      <td>183</td>\n",
       "      <td>East Caribbean Dollars</td>\n",
       "      <td>Cents 1 Nov</td>\n",
       "    </tr>\n",
       "    <tr>\n",
       "      <th>6</th>\n",
       "      <td>Argentina</td>\n",
       "      <td>Buenos Aires</td>\n",
       "      <td>South America</td>\n",
       "      <td>40.300</td>\n",
       "      <td>31</td>\n",
       "      <td>2780400</td>\n",
       "      <td>8</td>\n",
       "      <td>Peso</td>\n",
       "      <td>Centavos 25 May &amp; 10 Jun</td>\n",
       "    </tr>\n",
       "    <tr>\n",
       "      <th>7</th>\n",
       "      <td>Armenia</td>\n",
       "      <td>Yerevan</td>\n",
       "      <td>Western Asia</td>\n",
       "      <td>3.080</td>\n",
       "      <td>134</td>\n",
       "      <td>29800</td>\n",
       "      <td>139</td>\n",
       "      <td>Dram</td>\n",
       "      <td>Luma 28 May &amp; 21 Sep</td>\n",
       "    </tr>\n",
       "    <tr>\n",
       "      <th>8</th>\n",
       "      <td>Australia</td>\n",
       "      <td>Canberra</td>\n",
       "      <td>Oceania</td>\n",
       "      <td>21.900</td>\n",
       "      <td>52</td>\n",
       "      <td>7692000</td>\n",
       "      <td>6</td>\n",
       "      <td>Austr. Dollar</td>\n",
       "      <td>Cent 26 Jan</td>\n",
       "    </tr>\n",
       "    <tr>\n",
       "      <th>9</th>\n",
       "      <td>Austria</td>\n",
       "      <td>Vienna</td>\n",
       "      <td>Central Europe</td>\n",
       "      <td>8.360</td>\n",
       "      <td>91</td>\n",
       "      <td>83879</td>\n",
       "      <td>112</td>\n",
       "      <td>Euro</td>\n",
       "      <td>Cent 26 Oct</td>\n",
       "    </tr>\n",
       "    <tr>\n",
       "      <th>10</th>\n",
       "      <td>Azerbaijan</td>\n",
       "      <td>Baku</td>\n",
       "      <td>Western Asia</td>\n",
       "      <td>8.800</td>\n",
       "      <td>90</td>\n",
       "      <td>86600</td>\n",
       "      <td>111</td>\n",
       "      <td>Manat</td>\n",
       "      <td>Gepik 28 May</td>\n",
       "    </tr>\n",
       "  </tbody>\n",
       "</table>\n",
       "</div>"
      ],
      "text/plain": [
       "                 name           capital              location  pop(mil)  rank  \\\n",
       "0         Afghanistan             Kabul          Central Asia    29.800    40   \n",
       "1             Albania            Tirana      Southeast Europe     3.100   133   \n",
       "2             Algeria           Algiers          North Africa    34.900    34   \n",
       "3             Andorra  Andorra la Vella  South-western Europe     0.085   186   \n",
       "4              Angola            Luanda     South-West Africa    18.500    59   \n",
       "5   Antigua & Barbuda        St. John’s             Caribbean     0.088   184   \n",
       "6           Argentina      Buenos Aires         South America    40.300    31   \n",
       "7             Armenia           Yerevan          Western Asia     3.080   134   \n",
       "8           Australia          Canberra               Oceania    21.900    52   \n",
       "9             Austria            Vienna        Central Europe     8.360    91   \n",
       "10         Azerbaijan              Baku          Western Asia     8.800    90   \n",
       "\n",
       "    area(km2)  rank_area                currency           national_holiday  \n",
       "0      652225         40                 Afghani                 Pul 18 Aug  \n",
       "1       28748        140                     Lek           Quindarka 28 Nov  \n",
       "2     2381741         10                   Dinar     Centimes 5 Jul & 1 Nov  \n",
       "3         467        181                    Euro                 Cent 8 Sep  \n",
       "4     1246700         22                  Kwanza              Centim 11 Nov  \n",
       "5         442        183  East Caribbean Dollars                Cents 1 Nov  \n",
       "6     2780400          8                    Peso   Centavos 25 May & 10 Jun  \n",
       "7       29800        139                    Dram       Luma 28 May & 21 Sep  \n",
       "8     7692000          6           Austr. Dollar                Cent 26 Jan  \n",
       "9       83879        112                    Euro                Cent 26 Oct  \n",
       "10      86600        111                   Manat               Gepik 28 May  "
      ]
     },
     "execution_count": 5,
     "metadata": {},
     "output_type": "execute_result"
    }
   ],
   "source": [
    " df"
   ]
  },
  {
   "cell_type": "code",
   "execution_count": 6,
   "metadata": {},
   "outputs": [
    {
     "data": {
      "text/html": [
       "<div>\n",
       "<style scoped>\n",
       "    .dataframe tbody tr th:only-of-type {\n",
       "        vertical-align: middle;\n",
       "    }\n",
       "\n",
       "    .dataframe tbody tr th {\n",
       "        vertical-align: top;\n",
       "    }\n",
       "\n",
       "    .dataframe thead th {\n",
       "        text-align: right;\n",
       "    }\n",
       "</style>\n",
       "<table border=\"1\" class=\"dataframe\">\n",
       "  <thead>\n",
       "    <tr style=\"text-align: right;\">\n",
       "      <th></th>\n",
       "      <th>pop(mil)</th>\n",
       "      <th>rank</th>\n",
       "      <th>area(km2)</th>\n",
       "      <th>rank_area</th>\n",
       "    </tr>\n",
       "  </thead>\n",
       "  <tbody>\n",
       "    <tr>\n",
       "      <th>count</th>\n",
       "      <td>43.000000</td>\n",
       "      <td>43.000000</td>\n",
       "      <td>4.300000e+01</td>\n",
       "      <td>43.000000</td>\n",
       "    </tr>\n",
       "    <tr>\n",
       "      <th>mean</th>\n",
       "      <td>20.074019</td>\n",
       "      <td>99.069767</td>\n",
       "      <td>5.462075e+05</td>\n",
       "      <td>114.651163</td>\n",
       "    </tr>\n",
       "    <tr>\n",
       "      <th>std</th>\n",
       "      <td>30.143911</td>\n",
       "      <td>56.662491</td>\n",
       "      <td>2.587716e+06</td>\n",
       "      <td>48.266070</td>\n",
       "    </tr>\n",
       "    <tr>\n",
       "      <th>min</th>\n",
       "      <td>0.000800</td>\n",
       "      <td>9.000000</td>\n",
       "      <td>4.400000e-01</td>\n",
       "      <td>1.000000</td>\n",
       "    </tr>\n",
       "    <tr>\n",
       "      <th>25%</th>\n",
       "      <td>2.040000</td>\n",
       "      <td>57.000000</td>\n",
       "      <td>2.723050e+04</td>\n",
       "      <td>78.000000</td>\n",
       "    </tr>\n",
       "    <tr>\n",
       "      <th>50%</th>\n",
       "      <td>7.580000</td>\n",
       "      <td>95.000000</td>\n",
       "      <td>7.027300e+04</td>\n",
       "      <td>118.000000</td>\n",
       "    </tr>\n",
       "    <tr>\n",
       "      <th>75%</th>\n",
       "      <td>19.000000</td>\n",
       "      <td>142.500000</td>\n",
       "      <td>2.429100e+05</td>\n",
       "      <td>143.000000</td>\n",
       "    </tr>\n",
       "    <tr>\n",
       "      <th>max</th>\n",
       "      <td>141.800000</td>\n",
       "      <td>196.000000</td>\n",
       "      <td>1.707540e+07</td>\n",
       "      <td>196.000000</td>\n",
       "    </tr>\n",
       "  </tbody>\n",
       "</table>\n",
       "</div>"
      ],
      "text/plain": [
       "         pop(mil)        rank     area(km2)   rank_area\n",
       "count   43.000000   43.000000  4.300000e+01   43.000000\n",
       "mean    20.074019   99.069767  5.462075e+05  114.651163\n",
       "std     30.143911   56.662491  2.587716e+06   48.266070\n",
       "min      0.000800    9.000000  4.400000e-01    1.000000\n",
       "25%      2.040000   57.000000  2.723050e+04   78.000000\n",
       "50%      7.580000   95.000000  7.027300e+04  118.000000\n",
       "75%     19.000000  142.500000  2.429100e+05  143.000000\n",
       "max    141.800000  196.000000  1.707540e+07  196.000000"
      ]
     },
     "execution_count": 6,
     "metadata": {},
     "output_type": "execute_result"
    }
   ],
   "source": [
    "#getting the summary\n",
    "df2.describe()"
   ]
  },
  {
   "cell_type": "code",
   "execution_count": 7,
   "metadata": {
    "scrolled": true
   },
   "outputs": [
    {
     "data": {
      "image/png": "[encoded data removed]",
      "text/plain": [
       "<Figure size 432x288 with 1 Axes>"
      ]
     },
     "metadata": {
      "needs_background": "light"
     },
     "output_type": "display_data"
    }
   ],
   "source": [
    "#Looking at the histogram\n",
    "sns.distplot(df['pop(mil)'],bins=20, kde=False);"
   ]
  },
  {
   "cell_type": "code",
   "execution_count": 8,
   "metadata": {},
   "outputs": [
    {
     "data": {
      "image/png": "[encoded data removed]",
      "text/plain": [
       "<Figure size 432x288 with 1 Axes>"
      ]
     },
     "metadata": {
      "needs_background": "light"
     },
     "output_type": "display_data"
    }
   ],
   "source": [
    "sns.distplot(df2['pop(mil)'],bins=20, kde=False);"
   ]
  },
  {
   "cell_type": "markdown",
   "metadata": {},
   "source": [
    "### Plotting the boxplots\n",
    "\n",
    "We will plot the boxplot for the popuation, and we will also look at the square root and at the log of population."
   ]
  },
  {
   "cell_type": "code",
   "execution_count": 12,
   "metadata": {},
   "outputs": [],
   "source": [
    "## getting root and square root\n",
    "df['logpop'] = np.log10(df['pop(mil)'])\n",
    "df['rootpop'] = np.sqrt(df['pop(mil)'])\n",
    "df2['logpop'] = np.log10(df2['pop(mil)'])\n",
    "df2['rootpop'] = np.sqrt(df2['pop(mil)'])"
   ]
  },
  {
   "cell_type": "code",
   "execution_count": 9,
   "metadata": {
    "inputHidden": false,
    "outputHidden": false
   },
   "outputs": [
    {
     "data": {
      "image/png": "[encoded data removed]",
      "text/plain": [
       "<Figure size 432x288 with 1 Axes>"
      ]
     },
     "metadata": {
      "needs_background": "light"
     },
     "output_type": "display_data"
    }
   ],
   "source": [
    "df.boxplot(column=['pop(mil)']);"
   ]
  },
  {
   "cell_type": "code",
   "execution_count": 10,
   "metadata": {},
   "outputs": [
    {
     "data": {
      "text/plain": [
       "<matplotlib.axes._subplots.AxesSubplot at 0x119689518>"
      ]
     },
     "execution_count": 10,
     "metadata": {},
     "output_type": "execute_result"
    },
    {
     "data": {
      "image/png": "[encoded data removed]",
      "text/plain": [
       "<Figure size 432x288 with 1 Axes>"
      ]
     },
     "metadata": {
      "needs_background": "light"
     },
     "output_type": "display_data"
    }
   ],
   "source": [
    "df2.boxplot(column=['pop(mil)'])"
   ]
  },
  {
   "cell_type": "markdown",
   "metadata": {},
   "source": [
    "## Comparing the 2 datasets"
   ]
  },
  {
   "cell_type": "code",
   "execution_count": 11,
   "metadata": {},
   "outputs": [
    {
     "data": {
      "text/plain": [
       "<matplotlib.axes._subplots.AxesSubplot at 0x11b9f64a8>"
      ]
     },
     "execution_count": 11,
     "metadata": {},
     "output_type": "execute_result"
    },
    {
     "data": {
      "image/png": "[encoded data removed]",
      "text/plain": [
       "<Figure size 648x432 with 2 Axes>"
      ]
     },
     "metadata": {
      "needs_background": "light"
     },
     "output_type": "display_data"
    }
   ],
   "source": [
    "fig, axes = plt.subplots(ncols=2,sharex=True,sharey=True,figsize=(9,6))\n",
    "\n",
    "df.boxplot(column=['pop(mil)'],ax=axes[0],patch_artist=True)\n",
    "df2.boxplot(column=['pop(mil)'],ax=axes[1],patch_artist=True)\n"
   ]
  },
  {
   "cell_type": "code",
   "execution_count": 13,
   "metadata": {},
   "outputs": [
    {
     "data": {
      "text/plain": [
       "<matplotlib.axes._subplots.AxesSubplot at 0x11bb0fb70>"
      ]
     },
     "execution_count": 13,
     "metadata": {},
     "output_type": "execute_result"
    },
    {
     "data": {
      "image/png": "[encoded data removed]",
      "text/plain": [
       "<Figure size 648x432 with 2 Axes>"
      ]
     },
     "metadata": {
      "needs_background": "light"
     },
     "output_type": "display_data"
    }
   ],
   "source": [
    "fig, axes = plt.subplots(ncols=2,sharex=True,sharey=True,figsize=(9,6))\n",
    "\n",
    "df.boxplot(column=['rootpop'],ax=axes[0],patch_artist=True)\n",
    "df2.boxplot(column=['rootpop'],ax=axes[1],patch_artist=True)\n"
   ]
  },
  {
   "cell_type": "code",
   "execution_count": 14,
   "metadata": {},
   "outputs": [
    {
     "data": {
      "text/plain": [
       "<matplotlib.axes._subplots.AxesSubplot at 0x11bc866d8>"
      ]
     },
     "execution_count": 14,
     "metadata": {},
     "output_type": "execute_result"
    },
    {
     "data": {
      "image/png": "[encoded data removed]",
      "text/plain": [
       "<Figure size 648x432 with 2 Axes>"
      ]
     },
     "metadata": {
      "needs_background": "light"
     },
     "output_type": "display_data"
    }
   ],
   "source": [
    "fig, axes = plt.subplots(ncols=2,sharex=True,sharey=True,figsize=(9,6))\n",
    "\n",
    "df.boxplot(column=['logpop'],ax=axes[0],patch_artist=True)\n",
    "df2.boxplot(column=['logpop'],ax=axes[1],patch_artist=True)"
   ]
  },
  {
   "cell_type": "code",
   "execution_count": null,
   "metadata": {},
   "outputs": [],
   "source": []
  }
 ],
 "metadata": {
  "kernel_info": {
   "name": "python3"
  },
  "kernelspec": {
   "display_name": "Python 3",
   "language": "python",
   "name": "python3"
  },
  "language_info": {
   "codemirror_mode": {
    "name": "ipython",
    "version": 3
   },
   "file_extension": ".py",
   "mimetype": "text/x-python",
   "name": "python",
   "nbconvert_exporter": "python",
   "pygments_lexer": "ipython3",
   "version": "3.6.5"
  },
  "nteract": {
   "version": "0.12.3"
  }
 },
 "nbformat": 4,
 "nbformat_minor": 2
}
